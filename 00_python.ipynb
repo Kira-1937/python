{
 "cells": [
  {
   "cell_type": "code",
   "execution_count": 21,
   "metadata": {},
   "outputs": [],
   "source": [
    "class Item:\n",
    "   def calculate_total_price(self,x,y): #it is called methods and self parameter always passed to it as it also recieve instence \n",
    "      return x*y\n",
    "   def calculate_total_price2(self,x,y,z):\n",
    "      return x*y-z\n",
    "\n",
    " "
   ]
  },
  {
   "cell_type": "code",
   "execution_count": 22,
   "metadata": {},
   "outputs": [
    {
     "name": "stdout",
     "output_type": "stream",
     "text": [
      "500\n",
      "400\n"
     ]
    }
   ],
   "source": [
    "item1=Item() #instence of class\n",
    "item1.name=\"phone\"\n",
    "item1.price=100\n",
    "item1.quantity=5\n",
    "item1.discount=100\n",
    "\n",
    "print(item1.calculate_total_price(item1.price,item1.quantity))\n",
    "print(item1.calculate_total_price2(item1.price,item1.quantity,item1.discount))\n",
    "\n"
   ]
  },
  {
   "cell_type": "code",
   "execution_count": 23,
   "metadata": {},
   "outputs": [
    {
     "name": "stdout",
     "output_type": "stream",
     "text": [
      "2000\n"
     ]
    }
   ],
   "source": [
    "item2=Item() #instence of class\n",
    "item2.name=\"laptop\"\n",
    "item2.price=1000\n",
    "item2.quantity=2\n",
    "\n",
    "\n",
    "print(item2.calculate_total_price(item2.price,item2.quantity))\n"
   ]
  },
  {
   "cell_type": "code",
   "execution_count": 27,
   "metadata": {},
   "outputs": [],
   "source": [
    "class ITEM:\n",
    "    def __init__(self,name,price,quantity=0):\n",
    "        self.name=name\n",
    "        self.price=price\n",
    "        self.quantity=quantity\n",
    "\n",
    "    def calculate_total_price(self):\n",
    "        return self.price*self.quantity\n"
   ]
  },
  {
   "cell_type": "code",
   "execution_count": 30,
   "metadata": {},
   "outputs": [
    {
     "name": "stdout",
     "output_type": "stream",
     "text": [
      "Item1 0\n",
      "Item1 200\n",
      "Item2 0\n",
      "Item2 900\n"
     ]
    }
   ],
   "source": [
    "ITEM1=ITEM(\"phone\",100)\n",
    "print(\"Item1\",ITEM1.calculate_total_price())\n",
    "\n",
    "ITEM1=ITEM(\"phone\",100,2)\n",
    "print(\"Item1\",ITEM1.calculate_total_price())\n",
    "\n",
    "ITEM2=ITEM(\"laptop\",300)\n",
    "print(\"Item2\",ITEM2.calculate_total_price())\n",
    "\n",
    "ITEM2=ITEM(\"laptop\",300,3)\n",
    "print(\"Item2\",ITEM2.calculate_total_price())"
   ]
  },
  {
   "cell_type": "code",
   "execution_count": 31,
   "metadata": {},
   "outputs": [],
   "source": [
    "class ITEMS:\n",
    "    def __init__(self,name:str,price:float,quantity=0):\n",
    "        self.name=name\n",
    "        self.price=price\n",
    "        self.quantity=quantity\n",
    "\n",
    "    def calculate_total_price(self):\n",
    "        return self.price*self.quantity\n"
   ]
  },
  {
   "cell_type": "code",
   "execution_count": 32,
   "metadata": {},
   "outputs": [
    {
     "name": "stdout",
     "output_type": "stream",
     "text": [
      "Item1 0\n",
      "Item1 200\n",
      "Item2 0\n",
      "Item2 900\n"
     ]
    }
   ],
   "source": [
    "ITEM1=ITEMS(\"phone\",100)\n",
    "print(\"Item1\",ITEM1.calculate_total_price())\n",
    "\n",
    "ITEM1=ITEMS(\"phone\",100,2)\n",
    "print(\"Item1\",ITEM1.calculate_total_price())\n",
    "\n",
    "ITEM2=ITEMS(\"laptop\",300)\n",
    "print(\"Item2\",ITEM2.calculate_total_price())\n",
    "\n",
    "ITEM2=ITEMS(\"laptop\",300,3)\n",
    "print(\"Item2\",ITEM2.calculate_total_price())"
   ]
  },
  {
   "cell_type": "code",
   "execution_count": 38,
   "metadata": {},
   "outputs": [],
   "source": [
    "class ITEMS:\n",
    "    def __init__(self,name:str,price:float,quantity=0):\n",
    "        #add assertion statement to validate the input\n",
    "        assert price>=0 ,f\"Price {price} must be >=0\"\n",
    "        assert quantity>=0,f\"Quantity {quantity} must be >=0\"\n",
    "\n",
    "        #assign self objects\n",
    "        self.name=name\n",
    "        self.price=price\n",
    "        self.quantity=quantity\n",
    "\n",
    "    def calculate_total_price(self):\n",
    "        return self.price*self.quantity\n"
   ]
  },
  {
   "cell_type": "code",
   "execution_count": 39,
   "metadata": {},
   "outputs": [
    {
     "name": "stdout",
     "output_type": "stream",
     "text": [
      "Item1 0\n",
      "Item1 200\n"
     ]
    }
   ],
   "source": [
    "ITEM1=ITEMS(\"phone\",100)\n",
    "print(\"Item1\",ITEM1.calculate_total_price())\n",
    "\n",
    "ITEM1=ITEMS(\"phone\",100,2)\n",
    "print(\"Item1\",ITEM1.calculate_total_price())"
   ]
  },
  {
   "cell_type": "code",
   "execution_count": 36,
   "metadata": {},
   "outputs": [
    {
     "ename": "AssertionError",
     "evalue": "Quantity -2 must be >=0",
     "output_type": "error",
     "traceback": [
      "\u001b[1;31m---------------------------------------------------------------------------\u001b[0m",
      "\u001b[1;31mAssertionError\u001b[0m                            Traceback (most recent call last)",
      "Cell \u001b[1;32mIn[36], line 1\u001b[0m\n\u001b[1;32m----> 1\u001b[0m ITEM1\u001b[38;5;241m=\u001b[39m\u001b[43mITEMS\u001b[49m\u001b[43m(\u001b[49m\u001b[38;5;124;43m\"\u001b[39;49m\u001b[38;5;124;43mphone\u001b[39;49m\u001b[38;5;124;43m\"\u001b[39;49m\u001b[43m,\u001b[49m\u001b[38;5;241;43m100\u001b[39;49m\u001b[43m,\u001b[49m\u001b[38;5;241;43m-\u001b[39;49m\u001b[38;5;241;43m2\u001b[39;49m\u001b[43m)\u001b[49m\n\u001b[0;32m      2\u001b[0m \u001b[38;5;28mprint\u001b[39m(\u001b[38;5;124m\"\u001b[39m\u001b[38;5;124mItem1\u001b[39m\u001b[38;5;124m\"\u001b[39m,ITEM1\u001b[38;5;241m.\u001b[39mcalculate_total_price())\n",
      "Cell \u001b[1;32mIn[33], line 5\u001b[0m, in \u001b[0;36mITEMS.__init__\u001b[1;34m(self, name, price, quantity)\u001b[0m\n\u001b[0;32m      2\u001b[0m \u001b[38;5;28;01mdef\u001b[39;00m \u001b[38;5;21m__init__\u001b[39m(\u001b[38;5;28mself\u001b[39m,name:\u001b[38;5;28mstr\u001b[39m,price:\u001b[38;5;28mfloat\u001b[39m,quantity\u001b[38;5;241m=\u001b[39m\u001b[38;5;241m0\u001b[39m):\n\u001b[0;32m      3\u001b[0m     \u001b[38;5;66;03m#add asserstion statement to validate the input\u001b[39;00m\n\u001b[0;32m      4\u001b[0m     \u001b[38;5;28;01massert\u001b[39;00m price\u001b[38;5;241m>\u001b[39m\u001b[38;5;241m=\u001b[39m\u001b[38;5;241m0\u001b[39m ,\u001b[38;5;124mf\u001b[39m\u001b[38;5;124m\"\u001b[39m\u001b[38;5;124mPrice \u001b[39m\u001b[38;5;132;01m{\u001b[39;00mprice\u001b[38;5;132;01m}\u001b[39;00m\u001b[38;5;124m must be >=0\u001b[39m\u001b[38;5;124m\"\u001b[39m\n\u001b[1;32m----> 5\u001b[0m     \u001b[38;5;28;01massert\u001b[39;00m quantity\u001b[38;5;241m>\u001b[39m\u001b[38;5;241m=\u001b[39m\u001b[38;5;241m0\u001b[39m,\u001b[38;5;124mf\u001b[39m\u001b[38;5;124m\"\u001b[39m\u001b[38;5;124mQuantity \u001b[39m\u001b[38;5;132;01m{\u001b[39;00mquantity\u001b[38;5;132;01m}\u001b[39;00m\u001b[38;5;124m must be >=0\u001b[39m\u001b[38;5;124m\"\u001b[39m\n\u001b[0;32m      7\u001b[0m     \u001b[38;5;66;03m#assign self objects\u001b[39;00m\n\u001b[0;32m      8\u001b[0m     \u001b[38;5;28mself\u001b[39m\u001b[38;5;241m.\u001b[39mname\u001b[38;5;241m=\u001b[39mname\n",
      "\u001b[1;31mAssertionError\u001b[0m: Quantity -2 must be >=0"
     ]
    }
   ],
   "source": [
    "\n",
    "ITEM1=ITEMS(\"phone\",100,-2)\n",
    "print(\"Item1\",ITEM1.calculate_total_price())"
   ]
  },
  {
   "cell_type": "code",
   "execution_count": 42,
   "metadata": {},
   "outputs": [],
   "source": [
    "class ITEMS:\n",
    "\n",
    "    pay_rate=0.8 #class level attribute \n",
    "\n",
    "    def __init__(self,name:str,price:float,quantity=0):\n",
    "        #add assertion statement to validate the input\n",
    "        assert price>=0 ,f\"Price {price} must be >=0\"\n",
    "        assert quantity>=0,f\"Quantity {quantity} must be >=0\"\n",
    "\n",
    "        #assign self objects\n",
    "        self.name=name\n",
    "        self.price=price\n",
    "        self.quantity=quantity\n",
    "\n",
    "    def calculate_total_price(self):\n",
    "        return self.price*self.quantity\n",
    "    \n",
    "    def apply_discount(self):\n",
    "        self.price=self.price*self.pay_rate  \n",
    "        #self.pay_rate =instence level attribute otherwise class level "
   ]
  },
  {
   "cell_type": "code",
   "execution_count": 44,
   "metadata": {},
   "outputs": [
    {
     "name": "stdout",
     "output_type": "stream",
     "text": [
      "80.0\n"
     ]
    }
   ],
   "source": [
    "item1=ITEMS(\"phone\",100,2)\n",
    "item1.apply_discount()\n",
    "print(item1.price)"
   ]
  },
  {
   "cell_type": "code",
   "execution_count": 45,
   "metadata": {},
   "outputs": [
    {
     "name": "stdout",
     "output_type": "stream",
     "text": [
      "700.0\n"
     ]
    }
   ],
   "source": [
    "item2=ITEMS(\"phone\",1000,2)\n",
    "item2.pay_rate=0.7 # as we have now defined the instence level attribute\n",
    "item2.apply_discount()\n",
    "print(item2.price)"
   ]
  },
  {
   "cell_type": "code",
   "execution_count": 57,
   "metadata": {},
   "outputs": [],
   "source": [
    "class ITEMS:\n",
    "\n",
    "    pay_rate=0.8 #class level attribute \n",
    "    array_of_items=[]\n",
    "    def __init__(self,name:str,price:float,quantity=0):\n",
    "        #add assertion statement to validate the input\n",
    "        assert price>=0 ,f\"Price {price} must be >=0\"\n",
    "        assert quantity>=0,f\"Quantity {quantity} must be >=0\"\n",
    "\n",
    "        #assign self objects\n",
    "        self.name=name\n",
    "        self.price=price\n",
    "        self.quantity=quantity\n",
    "\n",
    "        # save this self obj in array_of_items\n",
    "        ITEMS.array_of_items.append(self)\n",
    "\n",
    "    def calculate_total_price(self):\n",
    "        return self.price*self.quantity\n",
    "    \n",
    "    def apply_discount(self):\n",
    "        self.price=self.price*self.pay_rate  \n",
    "        #self.pay_rate =instence level attribute otherwise class level \n",
    "    \n",
    "    def __repr__(self):#used to represent all the items in array_of_items\n",
    "        return f\"item:{self.name},{self.price},{self.quantity}\\n\""
   ]
  },
  {
   "cell_type": "code",
   "execution_count": 58,
   "metadata": {},
   "outputs": [],
   "source": [
    "a=ITEMS(\"a\",1,2)\n",
    "b=ITEMS(\"b\",2,3)\n",
    "c=ITEMS(\"c\",3,4)\n",
    "d=ITEMS(\"d\",4,5)\n",
    "e=ITEMS(\"e\",5,6)\n",
    "\n",
    "# all these instence will be create and also going to save in array_of_items"
   ]
  },
  {
   "cell_type": "code",
   "execution_count": 60,
   "metadata": {},
   "outputs": [
    {
     "name": "stdout",
     "output_type": "stream",
     "text": [
      "a\n",
      "b\n",
      "c\n",
      "d\n",
      "e\n"
     ]
    }
   ],
   "source": [
    "for instence in ITEMS.array_of_items:\n",
    "    print(instence.name)"
   ]
  },
  {
   "cell_type": "code",
   "execution_count": 59,
   "metadata": {},
   "outputs": [
    {
     "name": "stdout",
     "output_type": "stream",
     "text": [
      "[item:a,1,2\n",
      ", item:b,2,3\n",
      ", item:c,3,4\n",
      ", item:d,4,5\n",
      ", item:e,5,6\n",
      "]\n"
     ]
    }
   ],
   "source": [
    "print(ITEMS.array_of_items)"
   ]
  },
  {
   "cell_type": "code",
   "execution_count": null,
   "metadata": {},
   "outputs": [],
   "source": []
  }
 ],
 "metadata": {
  "kernelspec": {
   "display_name": "python",
   "language": "python",
   "name": "python3"
  },
  "language_info": {
   "codemirror_mode": {
    "name": "ipython",
    "version": 3
   },
   "file_extension": ".py",
   "mimetype": "text/x-python",
   "name": "python",
   "nbconvert_exporter": "python",
   "pygments_lexer": "ipython3",
   "version": "3.12.3"
  }
 },
 "nbformat": 4,
 "nbformat_minor": 2
}
